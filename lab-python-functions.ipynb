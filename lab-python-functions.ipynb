{
 "cells": [
  {
   "cell_type": "markdown",
   "id": "25d7736c-ba17-4aff-b6bb-66eba20fbf4e",
   "metadata": {},
   "source": [
    "# Lab | Functions"
   ]
  },
  {
   "cell_type": "markdown",
   "id": "0c581062-8967-4d93-b06e-62833222f930",
   "metadata": {
    "tags": []
   },
   "source": [
    "## Exercise: Managing Customer Orders with Functions\n",
    "\n",
    "In the previous exercise, you improved the code for managing customer orders by using loops and flow control. Now, let's take it a step further and refactor the code by introducing functions.\n",
    "\n",
    "Follow the steps below to complete the exercise:\n",
    "\n",
    "1. Define a function named `initialize_inventory` that takes `products` as a parameter. Inside the function, implement the code for initializing the inventory dictionary using a loop and user input.\n",
    "\n",
    "2. Define a function named `get_customer_orders` that takes no parameters. Inside the function, implement the code for prompting the user to enter the product names using a loop. The function should return the `customer_orders` set.\n",
    "\n",
    "3. Define a function named `update_inventory` that takes `customer_orders` and `inventory` as parameters. Inside the function, implement the code for updating the inventory dictionary based on the customer orders.\n",
    "\n",
    "4. Define a function named `calculate_order_statistics` that takes `customer_orders` and `products` as parameters. Inside the function, implement the code for calculating the order statistics (total products ordered, and percentage of unique products ordered). The function should return these values.\n",
    "\n",
    "5. Define a function named `print_order_statistics` that takes `order_statistics` as a parameter. Inside the function, implement the code for printing the order statistics.\n",
    "\n",
    "6. Define a function named `print_updated_inventory` that takes `inventory` as a parameter. Inside the function, implement the code for printing the updated inventory.\n",
    "\n",
    "7. Call the functions in the appropriate sequence to execute the program and manage customer orders.\n",
    "\n",
    "Hints for functions:\n",
    "\n",
    "- Consider the input parameters required for each function and their return values.\n",
    "- Utilize function parameters and return values to transfer data between functions.\n",
    "- Test your functions individually to ensure they work correctly.\n",
    "\n",
    "\n"
   ]
  },
  {
   "cell_type": "code",
   "execution_count": 31,
   "id": "42ae3814",
   "metadata": {},
   "outputs": [],
   "source": [
    "products = [\"t-shirt\", \"mug\", \"hat\", \"book\", \"keychain\"]\n",
    "\n",
    "# Definimos el stock inicial.\n",
    "def initialize_inventory(products):\n",
    "    inventory = {}\n",
    "    print('Introduce cantidad de cada producto que tienes en el inventario')\n",
    "    for producto in products:\n",
    "        cantidad = int(input(f\"{producto}:\"))\n",
    "        inventory[producto] = cantidad\n",
    "    return inventory\n",
    "\n",
    "# Definimos la funcion coge los pedidos de los clientes.\n",
    "def get_customer_orders(products,inventory):\n",
    "    customer_orders = set()\n",
    "    while True:\n",
    "        pedido = input('Introduce el nombre del producto que quieres pedir')\n",
    "        if pedido in products:\n",
    "            if inventory[pedido] > 0:\n",
    "                customer_orders.add(pedido)\n",
    "                print(f'{pedido} añadido al pedido')\n",
    "            else:\n",
    "                print(f'Perdón, no tenemos stock de {pedido}.')\n",
    "        else:\n",
    "            print(f'{pedido} no es un producto válido. Selecciona un producto de estos {products}')\n",
    "        otro_product = input(\"¿Quieres añadir otro producto? (yes/no): \").strip().lower()\n",
    "        if otro_product != 'yes':\n",
    "            break\n",
    "    return customer_orders\n",
    "\n",
    "# Definimos la función que actualiza el inventario\n",
    "def update_inventory(customer_orders, inventory):\n",
    "    for producto in customer_orders:\n",
    "        if inventory[producto] > 0:\n",
    "            inventory[producto] -= 1\n",
    "    return inventory\n",
    "\n",
    "# Definimos la función que calcula las estadisticas\n",
    "def calculate_order_statistics(customer_orders, products):\n",
    "    total_products_ordered = len(customer_orders)\n",
    "    porcentaje = (total_products_ordered / len(products)) * 100\n",
    "    return total_products_ordered, porcentaje\n",
    "\n",
    "# Definimos la función para imprimir las estadísticas\n",
    "def print_order_statistics(order_statistics):\n",
    "    print('\\nOrder Statistics:')\n",
    "    print(f'Total Products Ordered: {order_statistics[0]}')\n",
    "    print(f'Percentage of Products Ordered: {order_statistics[1]}%')\n",
    "\n",
    "# Definimos la función para imprimir el inventario actualizado\n",
    "def print_updated_inventory(inventory):\n",
    "    print('\\nUpdated Inventory:')\n",
    "    for producto, cantidad in inventory.items():\n",
    "        print(f'{producto}: {cantidad}')"
   ]
  },
  {
   "cell_type": "code",
   "execution_count": 32,
   "id": "d5f930d0",
   "metadata": {},
   "outputs": [
    {
     "name": "stdout",
     "output_type": "stream",
     "text": [
      "Introduce cantidad de cada producto que tienes en el inventario\n",
      "hat añadido al pedido\n",
      "mug añadido al pedido\n",
      "book añadido al pedido\n",
      "\n",
      "Order Statistics:\n",
      "Total Products Ordered: 3\n",
      "Percentage of Products Ordered: 60.0%\n",
      "\n",
      "Updated Inventory:\n",
      "t-shirt: 5\n",
      "mug: 5\n",
      "hat: 6\n",
      "book: 7\n",
      "keychain: 9\n"
     ]
    }
   ],
   "source": [
    " # Iniciamos el inventario\n",
    "inventory = initialize_inventory(products)\n",
    "    \n",
    "# Obtenemos los pedidos \n",
    "customer_orders = get_customer_orders(products, inventory)\n",
    "    \n",
    "# Calculamos e imprimimos las estadísticas\n",
    "order_statistics = calculate_order_statistics(customer_orders, products)\n",
    "print_order_statistics(order_statistics)\n",
    "    \n",
    "# Actualizamos el inventari0\n",
    "inventory = update_inventory(customer_orders, inventory)\n",
    "print_updated_inventory(inventory)"
   ]
  }
 ],
 "metadata": {
  "kernelspec": {
   "display_name": "Python 3 (ipykernel)",
   "language": "python",
   "name": "python3"
  },
  "language_info": {
   "codemirror_mode": {
    "name": "ipython",
    "version": 3
   },
   "file_extension": ".py",
   "mimetype": "text/x-python",
   "name": "python",
   "nbconvert_exporter": "python",
   "pygments_lexer": "ipython3",
   "version": "3.12.4"
  }
 },
 "nbformat": 4,
 "nbformat_minor": 5
}
